{
 "cells": [
  {
   "cell_type": "code",
   "execution_count": 1,
   "metadata": {},
   "outputs": [],
   "source": [
    "#import the library used to query a website\n",
    "import urllib\n",
    "from bs4 import BeautifulSoup\n",
    "import numpy as np\n",
    "import pandas as pd\n",
    "from urllib.parse import urljoin\n",
    "import os\n",
    "\n"
   ]
  },
  {
   "cell_type": "code",
   "execution_count": 2,
   "metadata": {},
   "outputs": [],
   "source": [
    "#specify the url\n",
    "url= \"https://en.wikipedia.org/wiki/List_of_state_and_union_territory_capitals_in_India\"\n",
    "url='http://web.cs.ucla.edu/~yzsun/classes/2018Fall_CS145/schedule.html'\n",
    "#Query the website and return the html to the variable 'page'\n",
    "page = urllib.request.urlopen(url)\n",
    "#import the Beautiful soup functions to parse the data returned from the website\n",
    "\n",
    "#Parse the html in the 'page' variable, and store it in Beautiful Soup format\n",
    "soup = BeautifulSoup(page)\n",
    "#print(soup.prettify())\n",
    "\n",
    "all_link=soup.find_all(\"a\") \n",
    "A=[]\n",
    "B=[]\n",
    "for link in all_link:\n",
    "    A.append(link.contents[0])\n",
    "    B.append(urljoin(url,link['href']))\n",
    "   # r = requests.get(link['href'], allow_redirects=True)\n",
    "   # open('google.ico', 'wb').write(r.content)\n",
    "#print(A)\n",
    "#print(B)\n",
    "#'''\n",
    "df=pd.DataFrame(A,columns=['Description'])\n",
    "df['link']=B\n",
    "\n",
    "#print (df)\n",
    "df.to_csv(\"output.csv\")\n",
    "#'''"
   ]
  },
  {
   "cell_type": "code",
   "execution_count": 4,
   "metadata": {},
   "outputs": [
    {
     "name": "stdout",
     "output_type": "stream",
     "text": [
      "start with  index.html\n",
      "path_file_name is C:\\py\\crawler\\output\\index.html\n",
      "index.html  is not a PDF file\n",
      "start with  \n",
      "path_file_name is C:\\py\\crawler\\output\\\n"
     ]
    },
    {
     "ename": "FileNotFoundError",
     "evalue": "[Errno 2] No such file or directory: 'C:\\\\py\\\\crawler\\\\output\\\\'",
     "output_type": "error",
     "traceback": [
      "\u001b[1;31m---------------------------------------------------------------------------\u001b[0m",
      "\u001b[1;31mFileNotFoundError\u001b[0m                         Traceback (most recent call last)",
      "\u001b[1;32m<ipython-input-4-fc398b9cbbb1>\u001b[0m in \u001b[0;36m<module>\u001b[1;34m()\u001b[0m\n\u001b[0;32m     28\u001b[0m \u001b[1;33m\u001b[0m\u001b[0m\n\u001b[0;32m     29\u001b[0m     \u001b[1;31m#determine file name end with .pdf, skip this file otherwise\u001b[0m\u001b[1;33m\u001b[0m\u001b[1;33m\u001b[0m\u001b[0m\n\u001b[1;32m---> 30\u001b[1;33m     \u001b[0mf\u001b[0m \u001b[1;33m=\u001b[0m \u001b[0mopen\u001b[0m\u001b[1;33m(\u001b[0m\u001b[0mpath_file_name\u001b[0m\u001b[1;33m,\u001b[0m \u001b[1;34m'wb'\u001b[0m\u001b[1;33m)\u001b[0m\u001b[1;33m\u001b[0m\u001b[0m\n\u001b[0m\u001b[0;32m     31\u001b[0m     \u001b[0mmeta\u001b[0m \u001b[1;33m=\u001b[0m \u001b[0mu\u001b[0m\u001b[1;33m.\u001b[0m\u001b[0minfo\u001b[0m\u001b[1;33m(\u001b[0m\u001b[1;33m)\u001b[0m\u001b[1;33m\u001b[0m\u001b[0m\n\u001b[0;32m     32\u001b[0m     \u001b[1;32mif\u001b[0m\u001b[1;33m(\u001b[0m\u001b[0mmeta\u001b[0m\u001b[1;33m[\u001b[0m\u001b[1;34m'Content-Type'\u001b[0m\u001b[1;33m]\u001b[0m\u001b[1;33m!=\u001b[0m\u001b[1;34m'application/pdf'\u001b[0m\u001b[1;33m)\u001b[0m\u001b[1;33m:\u001b[0m\u001b[1;33m\u001b[0m\u001b[0m\n",
      "\u001b[1;31mFileNotFoundError\u001b[0m: [Errno 2] No such file or directory: 'C:\\\\py\\\\crawler\\\\output\\\\'"
     ]
    }
   ],
   "source": [
    "#B=B[:1]\n",
    "#print(B)\n",
    "#dirname = os.path.dirname(__file__)\n",
    "dirname=\"C:\\py\\crawler\"\n",
    "relpath='output'\n",
    "\n",
    "for link in B:\n",
    "    file_name = link.split('/')[-1]\n",
    "    print(\"start with \",file_name)\n",
    "    '''\n",
    "    \n",
    "    temp=file_name[::-1]\n",
    "    #print(temp[:4])\n",
    "    if(len(temp)<4 or temp[:4]!='fdp.' and temp[:4]!='FDP.'):\n",
    "        print(file_name,\" is not a PDF file\")\n",
    "        continue\n",
    "    '''\n",
    "    \n",
    "    #test if link is open\n",
    "    try: u=urllib.request.urlopen(link)\n",
    "    except urllib.error.URLError as e:\n",
    "        print(e.reason)\n",
    "        continue\n",
    "    \n",
    "    #determine file name end with .pdf, skip this file otherwise\n",
    "    meta = u.info()\n",
    "    if(meta['Content-Type']!='application/pdf'):\n",
    "        print(file_name,\" is not a PDF file\")\n",
    "        continue\n",
    "        \n",
    "    #set abosolute path for the file\n",
    "    path_file_name = os.path.join(dirname, relpath,file_name)\n",
    "    print(\"path_file_name is\",path_file_name)\n",
    "        \n",
    "    #download file  \n",
    "    f = open(path_file_name, 'wb')\n",
    "    file_size=int(meta['Content-Length'])\n",
    "    print (f\"Downloading: %s Bytes: %s\" % (file_name, file_size))\n",
    "    file_size_dl = 0\n",
    "    block_sz = 8192\n",
    "    while True:\n",
    "        buffer = u.read(block_sz)\n",
    "        if not buffer:\n",
    "            break\n",
    "        file_size_dl += len(buffer)\n",
    "        f.write(buffer)\n",
    "        #status = r\"%10d  [%3.2f%%]\" % (file_size_dl, file_size_dl * 100. / file_size)\n",
    "        #status = status + chr(8)*(len(status)+1)\n",
    "        #print (status),\n",
    "    print(\"downloading finished\")\n",
    "    f.close()\n",
    "    #'''"
   ]
  },
  {
   "cell_type": "code",
   "execution_count": null,
   "metadata": {},
   "outputs": [],
   "source": []
  }
 ],
 "metadata": {
  "kernelspec": {
   "display_name": "Python 3",
   "language": "python",
   "name": "python3"
  },
  "language_info": {
   "codemirror_mode": {
    "name": "ipython",
    "version": 3
   },
   "file_extension": ".py",
   "mimetype": "text/x-python",
   "name": "python",
   "nbconvert_exporter": "python",
   "pygments_lexer": "ipython3",
   "version": "3.7.0"
  }
 },
 "nbformat": 4,
 "nbformat_minor": 2
}
